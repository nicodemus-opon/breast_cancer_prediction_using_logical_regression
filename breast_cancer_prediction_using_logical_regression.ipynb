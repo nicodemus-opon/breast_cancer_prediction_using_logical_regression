{
 "cells": [
  {
   "cell_type": "code",
   "execution_count": 87,
   "metadata": {},
   "outputs": [],
   "source": [
    "#imports\n",
    "from sklearn.linear_model import LogisticRegression\n",
    "from sklearn.metrics import confusion_matrix\n",
    "from sklearn.model_selection import train_test_split\n",
    "from sklearn import datasets"
   ]
  },
  {
   "cell_type": "markdown",
   "metadata": {},
   "source": [
    "### Load dataset"
   ]
  },
  {
   "cell_type": "code",
   "execution_count": 88,
   "metadata": {},
   "outputs": [],
   "source": [
    "\n",
    "#loading the breast cancer dataset and getting the features and the target (x,y)\n",
    "data=datasets.load_breast_cancer(return_X_y=True)\n",
    "X=data[0]\n",
    "Y=data[1]\n",
    "\n",
    "#splitting the dataset to a training and testing dataset\n",
    "X_train, X_test, Y_train, Y_test = train_test_split(X, Y, test_size = 0.25, random_state = 0)\n",
    "\n",
    "\n",
    "\n"
   ]
  },
  {
   "cell_type": "markdown",
   "metadata": {},
   "source": [
    "### Train the model with logistic Regression"
   ]
  },
  {
   "cell_type": "code",
   "execution_count": 89,
   "metadata": {},
   "outputs": [],
   "source": [
    "#training the actual model\n",
    "clf = LogisticRegression(random_state=0,max_iter=10000).fit(X_train, Y_train)"
   ]
  },
  {
   "cell_type": "markdown",
   "metadata": {},
   "source": [
    "### Testing the classifier with random data"
   ]
  },
  {
   "cell_type": "code",
   "execution_count": 90,
   "metadata": {},
   "outputs": [
    {
     "name": "stdout",
     "output_type": "stream",
     "text": [
      "data :\n",
      "[[1.426e+01 1.817e+01 9.122e+01 6.331e+02 6.576e-02 5.220e-02 2.475e-02\n",
      "  1.374e-02 1.635e-01 5.586e-02 2.300e-01 6.690e-01 1.661e+00 2.056e+01\n",
      "  3.169e-03 1.377e-02 1.079e-02 5.243e-03 1.103e-02 1.957e-03 1.622e+01\n",
      "  2.526e+01 1.058e+02 8.197e+02 9.445e-02 2.167e-01 1.565e-01 7.530e-02\n",
      "  2.636e-01 7.676e-02]]\n",
      "prediction :\n",
      "[1]\n"
     ]
    }
   ],
   "source": [
    "print(\"data :\")\n",
    "print(X_test[3:4])\n",
    "pred_test= clf.predict(X_test[3:4])\n",
    "print(\"prediction :\")\n",
    "print(pred_test)"
   ]
  },
  {
   "cell_type": "markdown",
   "metadata": {},
   "source": [
    "### performance measure \n",
    "\n",
    "using accuracy as a performance measure with a confusion matrix\n"
   ]
  },
  {
   "cell_type": "code",
   "execution_count": 91,
   "metadata": {},
   "outputs": [
    {
     "name": "stdout",
     "output_type": "stream",
     "text": [
      "[[52  1]\n",
      " [ 6 84]]\n"
     ]
    }
   ],
   "source": [
    "#getting predicted values from test dataset\n",
    "Y_pred = clf.predict(X_test)\n",
    "# constructing a confusion matrix \n",
    "cm = confusion_matrix(Y_test, Y_pred)\n",
    "print(cm)"
   ]
  },
  {
   "cell_type": "markdown",
   "metadata": {},
   "source": [
    "\n",
    ">accuracy = no of correct predictions/total predictions"
   ]
  },
  {
   "cell_type": "code",
   "execution_count": 94,
   "metadata": {},
   "outputs": [
    {
     "name": "stdout",
     "output_type": "stream",
     "text": [
      "accuracy is :\n",
      "95.10\n"
     ]
    }
   ],
   "source": [
    "correct_p=cm[0][0]+cm[1][1]\n",
    "total_p=cm[0][0]+cm[0][1]+cm[1][0]+cm[1][1]\n",
    "accuracy=correct_p/total_p\n",
    "#print accuracy as a percentage in 2decimal places\n",
    "print(\"accuracy is :\" )\n",
    "print(\"%.2f\" % (accuracy*100)  )"
   ]
  },
  {
   "cell_type": "markdown",
   "metadata": {},
   "source": [
    "### Group 12\n",
    "104087 Kiprop\n",
    "\n",
    "104022 Chumo\n",
    "\n",
    "107057 Otieno\n",
    "\n",
    "113485 Waweru\n",
    "\n",
    "102799 Musoni"
   ]
  }
 ],
 "metadata": {
  "kernelspec": {
   "display_name": "Python 3",
   "language": "python",
   "name": "python3"
  },
  "language_info": {
   "codemirror_mode": {
    "name": "ipython",
    "version": 3
   },
   "file_extension": ".py",
   "mimetype": "text/x-python",
   "name": "python",
   "nbconvert_exporter": "python",
   "pygments_lexer": "ipython3",
   "version": "3.6.8"
  }
 },
 "nbformat": 4,
 "nbformat_minor": 2
}
